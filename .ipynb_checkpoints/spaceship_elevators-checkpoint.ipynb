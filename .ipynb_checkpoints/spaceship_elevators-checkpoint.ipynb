{
 "cells": [
  {
   "cell_type": "code",
   "execution_count": 8,
   "metadata": {
    "collapsed": true
   },
   "outputs": [],
   "source": [
    "import numpy as np\n",
    "import heapq\n",
    "from pylab import plot, show, bar\n",
    "import matplotlib.pyplot as plt\n",
    "plt.style.use(\"ggplot\")\n",
    "import random\n",
    "import pandas as pd #package for some uses and maybe for visualization\n",
    "\n",
    "np.random.seed(0)\n"
   ]
  },
  {
   "cell_type": "code",
   "execution_count": 9,
   "metadata": {},
   "outputs": [
    {
     "name": "stdout",
     "output_type": "stream",
     "text": [
      "[[None, [4.0, 6.0, 10.0], [7.0, 12.0, 40.0]], [[4.0, 10.0, 6.0], [0.4, 0.4, 0.4], [0.4, 0.4, 0.4]], [[7.0, 40.0, 12.0], [0.4, 0.4, 0.4], [0.4, 0.4, 0.4]]]\n"
     ]
    }
   ],
   "source": [
    "#Putting the arrival rates into a 3-dimensional array \n",
    "\n",
    "#df = pd.read_csv('arrival_rates.csv')\n",
    "df\n",
    "arrival_rates= [\n",
    "        [[],[]],\n",
    "        [[],[],[]],\n",
    "        [[],[],[]]\n",
    "      ]\n",
    "\n",
    "k = -1\n",
    "for i in range(3):\n",
    "    for j in range(len(arrival_rates[i])):\n",
    "        k +=1 \n",
    "        if k==8:\n",
    "            break\n",
    "        #print (k)\n",
    "        opc= [df.loc[k, \"other\"], df.loc[k, \"15--18\"], df.loc[k, \"7--10\"]]\n",
    "        arrival_rates[i][j].extend(opc)\n",
    "\n",
    "arrival_rates[0].insert(0, None)\n",
    "\n",
    "\n",
    "print(arrival_rates)\n",
    "\n",
    "\n",
    "\n"
   ]
  },
  {
   "cell_type": "code",
   "execution_count": 10,
   "metadata": {},
   "outputs": [
    {
     "name": "stdout",
     "output_type": "stream",
     "text": [
      "{1: 1, 2: 1, 3: 1, 4: 1, 5: 1, 6: 1, 7: 1, 8: 1, 9: 1, 10: 1, 11: 1, 12: 1, 13: 1, 14: 1, 15: 1, 16: 2, 17: 2, 18: 2, 19: 2, 20: 2, 21: 2, 22: 2, 23: 2, 24: 2, 25: 2, 0: 0}\n"
     ]
    }
   ],
   "source": [
    "#Creating a dictionary which hold the floor range(or single floor if its ground floor) for each floor\n",
    "\n",
    "lower_floor_range = {movie: 1 for movie in range(1,16)}\n",
    "upper_floor_range = {movie: 2 for movie in range(16,26)}\n",
    "lower_floor_range.update(upper_floor_range)\n",
    "get_floor_range = lower_floor_range\n",
    "get_floor_range[0] = 0 #ground floor\n",
    "\n",
    "print(get_floor_range)"
   ]
  },
  {
   "cell_type": "code",
   "execution_count": 11,
   "metadata": {
    "tags": []
   },
   "outputs": [
    {
     "name": "stdout",
     "output_type": "stream",
     "text": [
      "Spaceship Elevator\n",
      "6.821781498540942\n"
     ]
    },
    {
     "ename": "NameError",
     "evalue": "name 'theater' is not defined",
     "output_type": "error",
     "traceback": [
      "\u001b[1;31m---------------------------------------------------------------------------\u001b[0m",
      "\u001b[1;31mNameError\u001b[0m                                 Traceback (most recent call last)",
      "\u001b[1;32m<ipython-input-11-2afdc4c384a0>\u001b[0m in \u001b[0;36m<module>\u001b[1;34m\u001b[0m\n\u001b[0;32m     95\u001b[0m \u001b[1;33m\u001b[0m\u001b[0m\n\u001b[0;32m     96\u001b[0m     \u001b[1;32mif\u001b[0m \u001b[0mevent\u001b[0m\u001b[1;33m.\u001b[0m\u001b[0meventType\u001b[0m \u001b[1;33m==\u001b[0m \u001b[1;34m\"arriving\"\u001b[0m \u001b[1;33m:\u001b[0m\u001b[1;33m\u001b[0m\u001b[1;33m\u001b[0m\u001b[0m\n\u001b[1;32m---> 97\u001b[1;33m         \u001b[0mnew_passenger\u001b[0m \u001b[1;33m=\u001b[0m \u001b[0mPassenger\u001b[0m\u001b[1;33m(\u001b[0m\u001b[0mtheater\u001b[0m\u001b[1;33m,\u001b[0m \u001b[0mcurr_time\u001b[0m\u001b[1;33m,\u001b[0m\u001b[0mi\u001b[0m\u001b[1;33m)\u001b[0m\u001b[1;33m\u001b[0m\u001b[1;33m\u001b[0m\u001b[0m\n\u001b[0m\u001b[0;32m     98\u001b[0m         \u001b[0mmovie\u001b[0m \u001b[1;33m=\u001b[0m \u001b[0mnew_passenger\u001b[0m\u001b[1;33m.\u001b[0m\u001b[0mmovie\u001b[0m\u001b[1;33m\u001b[0m\u001b[1;33m\u001b[0m\u001b[0m\n\u001b[0;32m     99\u001b[0m         \u001b[0mnum_tickets\u001b[0m \u001b[1;33m=\u001b[0m \u001b[0mnew_passenger\u001b[0m\u001b[1;33m.\u001b[0m\u001b[0mnum_tickets\u001b[0m\u001b[1;33m\u001b[0m\u001b[1;33m\u001b[0m\u001b[0m\n",
      "\u001b[1;31mNameError\u001b[0m: name 'theater' is not defined"
     ]
    }
   ],
   "source": [
    "class Event():\n",
    "    def __init__(self, time, eventType, passenger = -1, movie1 = -1):\n",
    "        self.time = time # event time\n",
    "        self.eventType = eventType # type of the event\n",
    "        self.passenger = passenger\n",
    "        self.movie1 = movie1\n",
    "        heapq.heappush(P, self) #add the event to the events list\n",
    "\n",
    "    def __lt__(self,event2):\n",
    "        return self.time < event2.time\n",
    "\n",
    "class Passenger(object):\n",
    "    def __init__(self, start_floor, destination, arrival_time, i, elevator =-1):\n",
    "        self.start_floor = start_floor\n",
    "        self.destination = destination\n",
    "        self.elevator = elevator\n",
    "        self.patience = 15\n",
    "        self.arrival_time = arrival_time\n",
    "        self.id = i\n",
    "\n",
    "    def is_elevator_exchange_needed(self): # TO CHANGE THAT LATER SO IT WILL USE THE get_floor_range DICTIONARY\n",
    "        #checks if start_floor and destination are in the same floor range\n",
    "        if (self.start_floor <= 15 and self.destination <= 15) or (self.start_floor in [0]+list(range(16,26)) and self.destination in [0]+list(range(16,26))):\n",
    "            return False\n",
    "        else:\n",
    "            return True\n",
    "    \n",
    "class Elevator(object):\n",
    "    def __init__(self, name, current_floor):\n",
    "        self.name = name\n",
    "        self.max_capacity = 15\n",
    "        self.current_floor = current_floor\n",
    "        self.passengers = []\n",
    "        self.remaining_space = self.max_capacity - len(self.passengers)\n",
    "\n",
    "\n",
    "class Lower_floors_Elevator(Elevator):\n",
    "    def __init__(self, name, current_floor):\n",
    "        Elevator.__init__(self, name, current_floor)\n",
    "        self.floor_range = range(16)\n",
    "\n",
    "class Upper_floors_Elevator(Elevator):\n",
    "    def __init__(self, name, current_floor):\n",
    "        Elevator.__init__(self, name, current_floor)\n",
    "        self.floor_range = [0] + list(range(16,26))\n",
    "\n",
    "\n",
    "def get_current_rate(start_floor, destination):\n",
    "    #get current arrival rate according to start floor, destination, and curr_time(which would be determined at the start of each While iteration)\n",
    "    start_floor = get_floor_range[start_floor]\n",
    "    destination = get_floor_range[destination]\n",
    "    if curr_time >= 60 and curr_time < 240:\n",
    "        #07:00-10:00\n",
    "        hour_range = 2\n",
    "    elif curr_time >= 540 and curr_time < 720:\n",
    "        #15:00-18:00\n",
    "        hour_range = 1\n",
    "    else:\n",
    "        #any other time\n",
    "        hour_range = 0\n",
    "    \n",
    "    rate = arrival_rates[start_floor][destination][hour_range]\n",
    "    #and now convert to exponential rate and return result:\n",
    "    return 60/rate\n",
    "\n",
    "# Setup and start the simulation\n",
    "print('Spaceship Elevator')\n",
    "curr_time = 0   \n",
    "P = []\n",
    "A = 0\n",
    "SIM_TIME = 14*60 #simulation time in minutes\n",
    "line = []\n",
    "\n",
    "\n",
    "# Create the Elevators\n",
    "Elevator1 = Lower_floors_Elevator(\"Elevator1\",0)\n",
    "Elevator2 = Lower_floors_Elevator(\"Elevator2\",0)\n",
    "\n",
    "Elevator3 = Upper_floors_Elevator(\"Elevator3\",0)\n",
    "Elevator4 = Upper_floors_Elevator(\"Elevator4\",0)\n",
    "\n",
    "\n",
    "i=0\n",
    "\n",
    "x = np.random.exponential(60/7) # time for the first event \n",
    "Event(x ,\"arriving\")\n",
    "    \n",
    "\n",
    "while curr_time < SIM_TIME:\n",
    "    \n",
    "    event = heapq.heappop(P)\n",
    "    curr_time = event.time\n",
    "    print(curr_time)\n",
    "    #curr_rate = get_current_rate(start_floor, destination)\n",
    "    \n",
    "    if event.eventType == \"arriving\" : \n",
    "        new_passenger = Passenger(theater, curr_time,i)\n",
    "        movie = new_passenger.movie\n",
    "        num_tickets = new_passenger.num_tickets\n",
    "        if theater.available[movie] > 0 :\n",
    "            i+=1\n",
    "            theater.L+=1\n",
    "            people_in.append(theater.L)\n",
    "            time.append(curr_time)  \n",
    "            if A==0:\n",
    "                A = 1\n",
    "                Event(curr_time +  1 ,\"buy_tickets\", new_passenger) \n",
    "            else:\n",
    "                heapq.heappush(line, (new_passenger.arrival_time, new_passenger))\n",
    "            Event(curr_time + new_passenger.patience ,\"out_of_patience\", new_passenger) \n",
    "        Event(curr_time + np.random.exponential(1 / 2) ,\"arriving\") # create the next arrivel   \n",
    "        \n",
    "\n",
    "    elif event.eventType == \"buy_tickets\" : \n",
    "        if event.passenger.left == False: #check if the passenger left the queue\n",
    "            movie = event.passenger.movie\n",
    "            # Check if enough tickets left.\n",
    "            if theater.available[movie] < event.passenger.num_tickets:\n",
    "                # passenger leaves after some discussion\n",
    "                Event(curr_time + 0.5 ,\"argue_with_seller\", event.passenger)\n",
    "            else:      # Buy tickets\n",
    "                theater.available[movie] -= num_tickets\n",
    "                if theater.available[movie] < 1:\n",
    "                    # Trigger the \"sold out\" event for the movie\n",
    "                    print(\"HERE MAYBE\")\n",
    "                    Event(curr_time ,\"sold_out\", movie1 = movie )\n",
    "            theater.L -=1\n",
    "            people_in.append(theater.L)\n",
    "            time.append(curr_time)\n",
    "            event.passenger.left = True\n",
    "        if line:\n",
    "            arrival_time, passenger = heapq.heappop(line)\n",
    "            Event(curr_time +  1 ,\"buy_tickets\", passenger)\n",
    "        else:\n",
    "            A = 0\n",
    "            \n",
    "    elif event.eventType == \"argue_with_seller\" : \n",
    "        if line:\n",
    "            arrival_time, passenger = heapq.heappop(line)\n",
    "            Event(curr_time +  1 ,\"buy_tickets\", passenger)\n",
    "        else:\n",
    "            A = 0\n",
    "\n",
    "          \n",
    "    elif event.eventType == \"sold_out\" : \n",
    "        print(\"IM HERE\")\n",
    "        theater.when_sold_out[movie] = curr_time\n",
    "        theater.available[movie] = 0\n",
    "        line = [item for item in line if item[1].movie != event.movie]\n",
    "        if not any([movie==None for movie in theater.when_sold_out.values()]):\n",
    "            theater.all_sold_out = True\n",
    "        \n",
    "\n",
    "\n",
    "        \n",
    "    elif event.eventType == \"out_of_patience\" : \n",
    "        if event.passenger.left != True:\n",
    "            event.passenger.left = True\n",
    "            theater.num_leavers[movie] += 1\n",
    "            theater.L -=1\n",
    "            people_in.append(theater.L)\n",
    "            time.append(curr_time)\n",
    "        \n",
    "\n",
    "'''\n",
    "# Analysis/results\n",
    "for movie in theater.movies:\n",
    "    print('Movie \"%s\" sold out %.1f minutes after ticket counter '\n",
    "          'opening.' % (movie, theater.when_sold_out[movie]))\n",
    "    print('  Number of people leaving queue: %s' %\n",
    "          theater.num_leavers[movie])\n",
    "\n",
    "'''"
   ]
  },
  {
   "cell_type": "code",
   "execution_count": 12,
   "metadata": {},
   "outputs": [
    {
     "name": "stdout",
     "output_type": "stream",
     "text": [
      "no\n"
     ]
    }
   ],
   "source": [
    "if (8,5) < (8,2):\n",
    "    print(\"yes\")\n",
    "else:\n",
    "    print(\"no\")"
   ]
  },
  {
   "cell_type": "code",
   "execution_count": 32,
   "metadata": {},
   "outputs": [
    {
     "name": "stdout",
     "output_type": "stream",
     "text": [
      "dude\n"
     ]
    }
   ],
   "source": [
    "a= 22\n",
    "b= 17\n",
    "\n",
    "if (a <= 15 and b <= 15) or (a in [0]+list(range(16,26)) and b in [0]+list(range(16,26))):\n",
    "    print(\"dude\")\n",
    "else:\n",
    "    print(\"jerk\")\n"
   ]
  },
  {
   "cell_type": "code",
   "execution_count": 73,
   "metadata": {},
   "outputs": [
    {
     "name": "stdout",
     "output_type": "stream",
     "text": [
      "0.4\n"
     ]
    }
   ],
   "source": [
    "#TEST FOR FUNCTION get_current_rate\n",
    "curr_time = 67.45\n",
    "\n",
    "def get_current_rate(start_floor, destination):\n",
    "    start_floor = get_floor_range[start_floor]\n",
    "    destination = get_floor_range[destination]\n",
    "    if curr_time >= 60 and curr_time < 240:\n",
    "        #07:00-10:00\n",
    "        hour_range = 2\n",
    "    elif curr_time >= 540 and curr_time < 720:\n",
    "        #15:00-18:00\n",
    "        hour_range = 1\n",
    "    else:\n",
    "        #any other time\n",
    "        hour_range = 0\n",
    "    \n",
    "    return arrival_rates[start_floor][destination][hour_range]\n",
    "\n",
    "\n",
    "print (get_current_rate(12,18))"
   ]
  },
  {
   "cell_type": "code",
   "execution_count": 62,
   "metadata": {},
   "outputs": [
    {
     "name": "stdout",
     "output_type": "stream",
     "text": [
      "[4.0, 10.0, 6.0]\n"
     ]
    }
   ],
   "source": [
    "#TEST FOR building arrival rates\n",
    "\n",
    "df = pd.read_csv('arrival_rates.csv')\n",
    "df\n",
    "LPL = [\n",
    "        [[],[]],\n",
    "        [[],[],[]],\n",
    "        [[],[],[]]\n",
    "      ]\n",
    "k = -1\n",
    "for i in range(3):\n",
    "    for j in range(len(LPL[i])):\n",
    "        k +=1 \n",
    "        if k==8:\n",
    "            break\n",
    "        #print (k)\n",
    "        opc= [df.loc[k, \"other\"], df.loc[k, \"15--18\"], df.loc[k, \"7--10\"]]\n",
    "        LPL[i][j].extend(opc)\n",
    "\n",
    "LPL[0].insert(0, None)\n",
    "#df.iterrows()\n",
    "\n",
    "#for index, row in df.iterrows():\n",
    " #   print(row['7--10'], row['15--18'], row[\"other\"])\n",
    "\n",
    "print(LPL[1][0])"
   ]
  },
  {
   "cell_type": "code",
   "execution_count": null,
   "metadata": {},
   "outputs": [],
   "source": [
    "1+1"
   ]
  },
  {
   "cell_type": "code",
   "execution_count": null,
   "metadata": {},
   "outputs": [],
   "source": [
    "a=3\n",
    "print(3)\n"
   ]
  },
  {
   "cell_type": "code",
   "execution_count": null,
   "metadata": {},
   "outputs": [],
   "source": []
  }
 ],
 "metadata": {
  "kernelspec": {
   "display_name": "Python 3",
   "language": "python",
   "name": "python3"
  },
  "language_info": {
   "codemirror_mode": {
    "name": "ipython",
    "version": 3
   },
   "file_extension": ".py",
   "mimetype": "text/x-python",
   "name": "python",
   "nbconvert_exporter": "python",
   "pygments_lexer": "ipython3",
   "version": "3.8.3-final"
  }
 },
 "nbformat": 4,
 "nbformat_minor": 1
}
