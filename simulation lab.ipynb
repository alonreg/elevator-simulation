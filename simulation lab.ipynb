{
 "cells": [
  {
   "cell_type": "markdown",
   "metadata": {
    "collapsed": true
   },
   "source": [
    "# Simulation LAB\n",
    "---\n",
    "Shir Tavor , 21.9.20\n"
   ]
  },
  {
   "cell_type": "markdown",
   "metadata": {},
   "source": [
    "# Table of Content\n",
    "\n",
    "<a href=\"#Driving-&-Parking--Exercise-1\">Exercise 1</a>\n",
    "\n",
    "<a href=\"#Priority-Resource\">Priority Resource</a>\n",
    "\n",
    "<a href=\"#Gas-Station-Refueling-example--Exercise-2\">Exercise 2</a>\n",
    "\n",
    "<a href=\"#Miley-and-Peter--Exercise-3\">Exercise 3</a>\n",
    "\n",
    "<a href=\"#Movie-Theater\">Movie Theater</a>"
   ]
  },
  {
   "cell_type": "markdown",
   "metadata": {},
   "source": [
    "Note: This cell has to be ran in order to run any of the questions."
   ]
  },
  {
   "cell_type": "code",
   "execution_count": 1,
   "metadata": {},
   "outputs": [],
   "source": [
    "import numpy as np\n",
    "import heapq\n",
    "from pylab import plot, show, bar\n",
    "import matplotlib.pyplot as plt\n",
    "plt.style.use(\"ggplot\")\n",
    "import random\n",
    "\n",
    "np.random.seed(0)"
   ]
  },
  {
   "cell_type": "markdown",
   "metadata": {},
   "source": [
    "# Movie Theater"
   ]
  },
  {
   "cell_type": "markdown",
   "metadata": {},
   "source": [
    "A movie theater has one ticket counter selling tickets for three movies (next show only). \n",
    "\n",
    "When a movie is sold out, all people waiting to buy tickets for that movie renege (leave queue)."
   ]
  },
  {
   "cell_type": "code",
   "execution_count": 23,
   "metadata": {},
   "outputs": [
    {
     "name": "stdout",
     "output_type": "stream",
     "text": [
      "Movie Theater\n",
      "Movie \"Harry Potter\" sold out 29.3 minutes after ticket counter opening.\n",
      "  Number of people leaving queue: 3\n",
      "Movie \"Aviva, my love\" sold out 46.2 minutes after ticket counter opening.\n",
      "  Number of people leaving queue: 3\n",
      "Movie \"The Great Dictator\" sold out 50.1 minutes after ticket counter opening.\n",
      "  Number of people leaving queue: 8\n"
     ]
    }
   ],
   "source": [
    "class Event():\n",
    "    def __init__(self, time, eventType, customer = -1, movie1 = -1):\n",
    "        self.time = time # event time\n",
    "        self.eventType = eventType # type of the event\n",
    "        self.customer = customer\n",
    "        self.movie1 = movie1\n",
    "        heapq.heappush(P, self) #add the event to the events list\n",
    "\n",
    "    def __lt__(self,event2):\n",
    "        return self.time < event2.time\n",
    "\n",
    "class Customer(object):\n",
    "    def __init__(self, theater , arrival_time,i):\n",
    "        self.theater = theater\n",
    "        self.patience = np.random.uniform(1,5)\n",
    "        self.movie = random.choice(theater.movies)\n",
    "        self.num_tickets = random.randint(1, 6)\n",
    "        self.arrival_time = arrival_time\n",
    "        self.id = i\n",
    "        self.left = False\n",
    "    \n",
    "class Theater(object):\n",
    "    \"\"\"A Theater has a name, one seller(Resource),movies list and for each movie:\n",
    "    1. number of available tickets\n",
    "    2. sold out event (might happen)\n",
    "    3. when_sold_out (if Event.processed==True)\n",
    "    4. num_leavers\n",
    "\n",
    "    \"\"\"\n",
    "    def __init__(self,name,movies,TICKETS):\n",
    "        self.name = name\n",
    "        self.counter = 1\n",
    "        self.movies = movies\n",
    "        self.available = {movie: TICKETS for movie in movies}\n",
    "        self.when_sold_out = {movie: None for movie in movies}\n",
    "        self.num_leavers = {movie: 0 for movie in movies}       #number of leavers for each movie \n",
    "        self.L = 0                                               #number of customers in the system   \n",
    "        self.all_sold_out = False\n",
    "\n",
    "# Setup and start the simulation\n",
    "print('Movie Theater')\n",
    "curr_time = 0   \n",
    "P = []\n",
    "A = 0\n",
    "SIM_TIME = 120  \n",
    "time = []                               #list for visualization\n",
    "people_in = []                          #list for visualization\n",
    "line = []\n",
    "\n",
    "TICKETS = 50     # Number of tickets per movie\n",
    "movies = ['Harry Potter', 'Aviva, my love', 'The Great Dictator']\n",
    "\n",
    "# Create movie theater (the _Init_ function)\n",
    "theater = Theater('Theater', movies, TICKETS)\n",
    "\n",
    "i=0\n",
    "\n",
    "x = np.random.exponential(1 / 2) # time for the first event\n",
    "Event(x ,\"arriving\")\n",
    "    \n",
    "while curr_time < SIM_TIME or not theater.all_sold_out :\n",
    "\n",
    "    event = heapq.heappop(P)\n",
    "    curr_time = event.time\n",
    "    \n",
    "    if event.eventType == \"arriving\" : \n",
    "        new_customer = Customer(theater, curr_time,i)\n",
    "        movie = new_customer.movie\n",
    "        num_tickets = new_customer.num_tickets\n",
    "        if theater.available[movie] > 0 :\n",
    "            i+=1\n",
    "            theater.L+=1\n",
    "            people_in.append(theater.L)\n",
    "            time.append(curr_time)  \n",
    "            if A==0:\n",
    "                A = 1\n",
    "                Event(curr_time +  1 ,\"buy_tickets\", new_customer) \n",
    "            else:\n",
    "                heapq.heappush(line, (new_customer.arrival_time, new_customer))\n",
    "            Event(curr_time + new_customer.patience ,\"out_of_patience\", new_customer) \n",
    "        Event(curr_time + np.random.exponential(1 / 2) ,\"arriving\") # create the next arrivel   \n",
    "        \n",
    "\n",
    "    elif event.eventType == \"buy_tickets\" : \n",
    "        if event.customer.left == False: #check if the customer left the queue\n",
    "            movie = event.customer.movie\n",
    "            # Check if enough tickets left.\n",
    "            if theater.available[movie] < event.customer.num_tickets:\n",
    "                # customer leaves after some discussion\n",
    "                Event(curr_time + 0.5 ,\"argue_with_seller\", event.customer)\n",
    "            else:      # Buy tickets\n",
    "                theater.available[movie] -= num_tickets\n",
    "                if theater.available[movie] < 1:\n",
    "                    # Trigger the \"sold out\" event for the movie\n",
    "                    Event(curr_time ,\"sold_out\", movie1 = movie )\n",
    "            theater.L -=1\n",
    "            people_in.append(theater.L)\n",
    "            time.append(curr_time)\n",
    "            event.customer.left = True\n",
    "        if line:\n",
    "            arrival_time, customer = heapq.heappop(line)\n",
    "            Event(curr_time +  1 ,\"buy_tickets\", customer)\n",
    "        else:\n",
    "            A = 0\n",
    "            \n",
    "    elif event.eventType == \"argue_with_seller\" : \n",
    "        if line:\n",
    "            arrival_time, customer = heapq.heappop(line)\n",
    "            Event(curr_time +  1 ,\"buy_tickets\", customer)\n",
    "        else:\n",
    "            A = 0\n",
    "            \n",
    "    elif event.eventType == \"sold_out\" : \n",
    "        theater.when_sold_out[movie] = curr_time\n",
    "        theater.available[movie] = 0\n",
    "        line = [item for item in line if item[1].movie != event.movie]\n",
    "        if not any([movie==None for movie in theater.when_sold_out.values()]):\n",
    "            theater.all_sold_out = True\n",
    "        \n",
    "    elif event.eventType == \"out_of_patience\" : \n",
    "        if event.customer.left != True:\n",
    "            event.customer.left = True\n",
    "            theater.num_leavers[movie] += 1\n",
    "            theater.L -=1\n",
    "            people_in.append(theater.L)\n",
    "            time.append(curr_time)\n",
    "        \n",
    "# Analysis/results\n",
    "for movie in theater.movies:\n",
    "    print('Movie \"%s\" sold out %.1f minutes after ticket counter '\n",
    "          'opening.' % (movie, theater.when_sold_out[movie]))\n",
    "    print('  Number of people leaving queue: %s' %\n",
    "          theater.num_leavers[movie])"
   ]
  },
  {
   "cell_type": "code",
   "execution_count": 24,
   "metadata": {},
   "outputs": [
    {
     "data": {
      "image/png": "[encoded data removed]",
      "text/plain": [
       "<Figure size 432x288 with 1 Axes>"
      ]
     },
     "metadata": {
      "needs_background": "light"
     },
     "output_type": "display_data"
    }
   ],
   "source": [
    "dictionary = plt.figure()\n",
    "D = {u'Harry Potter': theater.when_sold_out['Harry Potter'], u'Aviva, my love': theater.when_sold_out['Aviva, my love'],u'The Great Dictator': theater.when_sold_out['The Great Dictator']}\n",
    "\n",
    "plt.bar(range(len(D)), D.values(), align='center')\n",
    "plt.xticks(range(len(D)), D.keys())\n",
    "plt.xlabel('Movie')\n",
    "plt.ylabel('Time[minutes]')\n",
    "plt.title('sold out movies')\n",
    "plt.show()"
   ]
  },
  {
   "cell_type": "code",
   "execution_count": 25,
   "metadata": {},
   "outputs": [
    {
     "data": {
      "image/png": "[encoded data removed]",
      "text/plain": [
       "<Figure size 432x288 with 1 Axes>"
      ]
     },
     "metadata": {
      "needs_background": "light"
     },
     "output_type": "display_data"
    }
   ],
   "source": [
    "n_groups = 3\n",
    "\n",
    "Got_in = (theater.num_leavers['Harry Potter']+50,theater.num_leavers['Aviva, my love']+50,theater.num_leavers['The Great Dictator']+50)\n",
    "\n",
    "soldout_leaving = (theater.num_leavers['Harry Potter'],theater.num_leavers['Aviva, my love'],theater.num_leavers['The Great Dictator'])\n",
    "\n",
    "fig, ax = plt.subplots()\n",
    "\n",
    "index = np.arange(n_groups)\n",
    "bar_width = 0.35\n",
    "\n",
    "opacity = 0.4\n",
    "error_config = {'ecolor': '0.3'}\n",
    "\n",
    "rects1 = ax.bar(index, Got_in, bar_width,\n",
    "                alpha=opacity, color='b',\n",
    "                label='Demand')\n",
    "\n",
    "rects2 = ax.bar(index + bar_width, soldout_leaving, bar_width,\n",
    "                alpha=opacity, color='r',\n",
    "                label='num_leavers')\n",
    "\n",
    "ax.set_xlabel('Movie')\n",
    "ax.set_ylabel('Customers')\n",
    "ax.set_title('Summary')\n",
    "ax.set_xticks(index + bar_width / 2)\n",
    "ax.set_xticklabels(movies)\n",
    "ax.legend()\n",
    "\n",
    "fig.tight_layout()\n",
    "plt.show()"
   ]
  },
  {
   "cell_type": "code",
   "execution_count": 26,
   "metadata": {},
   "outputs": [
    {
     "data": {
      "image/png": "[encoded data removed]",
      "text/plain": [
       "<Figure size 432x288 with 1 Axes>"
      ]
     },
     "metadata": {
      "needs_background": "light"
     },
     "output_type": "display_data"
    }
   ],
   "source": [
    "plt.plot(time,people_in)\n",
    "plt.title('In the Theater')\n",
    "plt.ylabel('customers in')\n",
    "plt.xlabel('minutes')\n",
    "plt.show()"
   ]
  }
 ],
 "metadata": {
  "anaconda-cloud": {},
  "kernelspec": {
   "display_name": "Python 3",
   "language": "python",
   "name": "python3"
  },
  "language_info": {
   "codemirror_mode": {
    "name": "ipython",
    "version": 3
   },
   "file_extension": ".py",
   "mimetype": "text/x-python",
   "name": "python",
   "nbconvert_exporter": "python",
   "pygments_lexer": "ipython3",
   "version": "3.7.4"
  }
 },
 "nbformat": 4,
 "nbformat_minor": 1
}